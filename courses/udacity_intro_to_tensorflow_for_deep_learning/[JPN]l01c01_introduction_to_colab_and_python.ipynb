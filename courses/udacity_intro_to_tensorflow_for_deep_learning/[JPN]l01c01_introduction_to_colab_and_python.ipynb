{
 "cells": [
  {
   "cell_type": "markdown",
   "metadata": {
    "colab_type": "text",
    "id": "Za8-Nr5k11fh"
   },
   "source": [
    "##### Copyright 2018 The TensorFlow Authors."
   ]
  },
  {
   "cell_type": "code",
   "execution_count": null,
   "metadata": {
    "cellView": "form",
    "colab": {},
    "colab_type": "code",
    "id": "Eq10uEbw0E4l"
   },
   "outputs": [],
   "source": [
    "#@title Licensed under the Apache License, Version 2.0 (the \"License\");\n",
    "# you may not use this file except in compliance with the License.\n",
    "# You may obtain a copy of the License at\n",
    "#\n",
    "# https://www.apache.org/licenses/LICENSE-2.0\n",
    "#\n",
    "# Unless required by applicable law or agreed to in writing, software\n",
    "# distributed under the License is distributed on an \"AS IS\" BASIS,\n",
    "# WITHOUT WARRANTIES OR CONDITIONS OF ANY KIND, either express or implied.\n",
    "# See the License for the specific language governing permissions and\n",
    "# limitations under the License."
   ]
  },
  {
   "cell_type": "markdown",
   "metadata": {
    "colab_type": "text",
    "id": "YHI3vyhv5p85"
   },
   "source": [
    "## **Introduction to Colab and Python**"
   ]
  },
  {
   "cell_type": "markdown",
   "metadata": {
    "colab_type": "text",
    "id": "OVi775ZJ2bsy"
   },
   "source": [
    "<table class=\"tfo-notebook-buttons\" align=\"left\">\n",
    "  <td>\n",
    "    <a target=\"_blank\" href=\"https://colab.research.google.com/github/tensorflow/examples/blob/master/courses/udacity_intro_to_tensorflow_for_deep_learning/l01c01_introduction_to_colab_and_python.ipynb\"><img src=\"https://www.tensorflow.org/images/colab_logo_32px.png\" />Run in Google Colab</a>\n",
    "  </td>\n",
    "  <td>\n",
    "    <a target=\"_blank\" href=\"https://github.com/tensorflow/examples/blob/master/courses/udacity_intro_to_tensorflow_for_deep_learning/l01c01_introduction_to_colab_and_python.ipynb\"><img src=\"https://www.tensorflow.org/images/GitHub-Mark-32px.png\" />View source on GitHub</a>\n",
    "  </td>\n",
    "</table>"
   ]
  },
  {
   "cell_type": "markdown",
   "metadata": {
    "colab_type": "text",
    "id": "F8YVA_634OFk"
   },
   "source": [
    "このColabへようこそ。ここでは、Pythonプログラミング言語とコースの演習に使用する環境の概要を簡単に紹介します：Colab。\n",
    "\n",
    "Colabは、Google Cloudを使用してブラウザーで実行されるPython開発環境です。\n",
    "\n",
    "たとえば、「Hello World」を印刷するには、マウスを[]の上に置いて、左上の再生ボタンを押します。 または、shift-enterを押して実行します。"
   ]
  },
  {
   "cell_type": "code",
   "execution_count": 1,
   "metadata": {
    "colab": {},
    "colab_type": "code",
    "id": "bdLopQtuAJi4"
   },
   "outputs": [],
   "source": [
    "# Never mind this statement, for compatibility reasons\n",
    "# from __future__ import absolute_import, division, print_function, unicode_literals"
   ]
  },
  {
   "cell_type": "code",
   "execution_count": 2,
   "metadata": {
    "colab": {},
    "colab_type": "code",
    "id": "X9uIpOS2zx7k"
   },
   "outputs": [
    {
     "name": "stdout",
     "output_type": "stream",
     "text": [
      "Hello World\n"
     ]
    }
   ],
   "source": [
    "print(\"Hello World\")"
   ]
  },
  {
   "cell_type": "markdown",
   "metadata": {
    "colab_type": "text",
    "id": "wwJGmDrQ0EoB"
   },
   "source": [
    "## Functions, Conditionals, and Iteration\n",
    "Python関数を作成して、ループから呼び出しましょう。"
   ]
  },
  {
   "cell_type": "code",
   "execution_count": 3,
   "metadata": {
    "colab": {},
    "colab_type": "code",
    "id": "pRllo2HLfXiu"
   },
   "outputs": [
    {
     "name": "stdout",
     "output_type": "stream",
     "text": [
      "--- Now running with i: 8\n",
      "Hello World, x was < 10\n",
      "Result from HelloWorld: 16\n",
      "--- Now running with i: 13\n",
      "Hello World, x was >= 10 but < 20\n",
      "Result from HelloWorld: 26\n",
      "--- Now running with i: 18\n",
      "Hello World, x was >= 10 but < 20\n",
      "Result from HelloWorld: 36\n",
      "--- Now running with i: 23\n",
      "Hello World, x was >= 20\n",
      "Result from HelloWorld: 46\n"
     ]
    }
   ],
   "source": [
    "def HelloWorldXY(x, y):\n",
    "  if (x < 10):\n",
    "    print(\"Hello World, x was < 10\")\n",
    "  elif (x < 20):\n",
    "    print(\"Hello World, x was >= 10 but < 20\")\n",
    "  else:\n",
    "    print(\"Hello World, x was >= 20\")\n",
    "  return x + y\n",
    "\n",
    "for i in range(8, 25, 5):  # i=8, 13, 18, 23 (start, stop, step)\n",
    "  print(\"--- Now running with i: {}\".format(i))\n",
    "  r = HelloWorldXY(i,i)\n",
    "  print(\"Result from HelloWorld: {}\".format(r))"
   ]
  },
  {
   "cell_type": "code",
   "execution_count": 4,
   "metadata": {
    "colab": {},
    "colab_type": "code",
    "id": "lHNmDCh0JpVP"
   },
   "outputs": [
    {
     "name": "stdout",
     "output_type": "stream",
     "text": [
      "Hello World, x was < 10\n",
      "3\n"
     ]
    }
   ],
   "source": [
    "print(HelloWorldXY(1,2))"
   ]
  },
  {
   "cell_type": "markdown",
   "metadata": {
    "colab_type": "text",
    "id": "kiZG7uhm8qCF"
   },
   "source": [
    "簡単ですね。\n",
    "\n",
    "0から2（排他的）で始まるループが必要な場合は、次のいずれかを実行できます。"
   ]
  },
  {
   "cell_type": "code",
   "execution_count": 5,
   "metadata": {
    "colab": {},
    "colab_type": "code",
    "id": "m8YQN1H41L-Y"
   },
   "outputs": [
    {
     "name": "stdout",
     "output_type": "stream",
     "text": [
      "Iterate over the items. `range(2)` is like a list [0,1].\n",
      "0\n",
      "1\n",
      "Iterate over an actual list.\n",
      "0\n",
      "1\n",
      "While works\n",
      "0\n",
      "1\n"
     ]
    }
   ],
   "source": [
    "print(\"Iterate over the items. `range(2)` is like a list [0,1].\")\n",
    "for i in range(2):\n",
    "  print(i)\n",
    "\n",
    "print(\"Iterate over an actual list.\")\n",
    "for i in [0,1]:\n",
    "  print(i)\n",
    "\n",
    "print(\"While works\")\n",
    "i = 0\n",
    "while i < 2:\n",
    "  print(i)\n",
    "  i += 1"
   ]
  },
  {
   "cell_type": "code",
   "execution_count": 6,
   "metadata": {
    "colab": {},
    "colab_type": "code",
    "id": "vIgmFZq4zszl"
   },
   "outputs": [
    {
     "name": "stdout",
     "output_type": "stream",
     "text": [
      "Python supports standard key words like continue and break\n",
      "Entered while\n"
     ]
    }
   ],
   "source": [
    "print(\"Python supports standard key words like continue and break\")\n",
    "while True:\n",
    "  print(\"Entered while\")\n",
    "  break"
   ]
  },
  {
   "cell_type": "markdown",
   "metadata": {
    "colab_type": "text",
    "id": "5QyOUhFw1OUX"
   },
   "source": [
    "## Numpy and lists\n",
    "Pythonには言語に組み込まれたリストがあります。\n",
    "ただし、これにはnumpyというライブラリーを使用します。\n",
    "Numpyは、機械学習を行うときに役立つ多くのサポート機能を提供します。\n",
    "\n",
    "ここには、インポート文も表示されます。 このステートメントにより、numpyパッケージ全体が利用可能になり、省略された「np」構文を使用してこれらのシンボルにアクセスできます。"
   ]
  },
  {
   "cell_type": "code",
   "execution_count": 7,
   "metadata": {
    "colab": {},
    "colab_type": "code",
    "id": "4Dxk4q-jzEy4"
   },
   "outputs": [
    {
     "name": "stdout",
     "output_type": "stream",
     "text": [
      "Current array: ['Hello' 'World' '!']\n",
      "Printing each element\n",
      "Hello\n",
      "World\n",
      "!\n",
      "\n",
      "Printing each element and their index\n",
      "Index: 0, was: Hello\n",
      "Index: 1, was: World\n",
      "Index: 2, was: !\n"
     ]
    }
   ],
   "source": [
    "import numpy as np  # Make numpy available using np.\n",
    "\n",
    "# Create a numpy array, and append an element\n",
    "a = np.array([\"Hello\", \"World\"])\n",
    "a = np.append(a, \"!\")\n",
    "print(\"Current array: {}\".format(a))\n",
    "print(\"Printing each element\")\n",
    "for i in a:\n",
    "  print(i)\n",
    "\n",
    "print(\"\\nPrinting each element and their index\")\n",
    "for i,e in enumerate(a):\n",
    "  print(\"Index: {}, was: {}\".format(i, e))"
   ]
  },
  {
   "cell_type": "code",
   "execution_count": 8,
   "metadata": {
    "colab": {},
    "colab_type": "code",
    "id": "RTa8_9G3LV03"
   },
   "outputs": [
    {
     "name": "stdout",
     "output_type": "stream",
     "text": [
      "\n",
      "Showing some basic math on arrays\n",
      "Max: 4\n",
      "Average: 2.0\n",
      "Max index: 2\n"
     ]
    }
   ],
   "source": [
    "print(\"\\nShowing some basic math on arrays\")\n",
    "b = np.array([0,1,4,3,2])\n",
    "print(\"Max: {}\".format(np.max(b)))\n",
    "print(\"Average: {}\".format(np.average(b)))\n",
    "print(\"Max index: {}\".format(np.argmax(b)))"
   ]
  },
  {
   "cell_type": "code",
   "execution_count": 9,
   "metadata": {
    "colab": {},
    "colab_type": "code",
    "id": "9YaGj5n4LW7P"
   },
   "outputs": [
    {
     "name": "stdout",
     "output_type": "stream",
     "text": [
      "\n",
      "You can print the type of anything\n",
      "Type of b: <class 'numpy.ndarray'>, type of b[0]: <class 'numpy.int64'>\n"
     ]
    }
   ],
   "source": [
    "print(\"\\nYou can print the type of anything\")\n",
    "print(\"Type of b: {}, type of b[0]: {}\".format(type(b), type(b[0])))"
   ]
  },
  {
   "cell_type": "code",
   "execution_count": 10,
   "metadata": {
    "colab": {},
    "colab_type": "code",
    "id": "V6ilVhi9LXn_"
   },
   "outputs": [
    {
     "name": "stdout",
     "output_type": "stream",
     "text": [
      "\n",
      "Use numpy to create a [3,3] dimension array with random number\n",
      "[[0.50582004 0.81773973 0.87860975]\n",
      " [0.60908603 0.82415796 0.49993937]\n",
      " [0.1624997  0.20391819 0.61743237]]\n"
     ]
    }
   ],
   "source": [
    "print(\"\\nUse numpy to create a [3,3] dimension array with random number\")\n",
    "c = np.random.rand(3, 3)\n",
    "print(c)"
   ]
  },
  {
   "cell_type": "code",
   "execution_count": 11,
   "metadata": {
    "colab": {},
    "colab_type": "code",
    "id": "W_Q-DkFCLYGA"
   },
   "outputs": [
    {
     "name": "stdout",
     "output_type": "stream",
     "text": [
      "\n",
      "You can print the dimensions of arrays\n",
      "Shape of a: (3,)\n",
      "Shape of b: (5,)\n",
      "Shape of c: (3, 3)\n",
      "...Observe, Python uses both [0,1,2] and (0,1,2) to specify lists\n"
     ]
    }
   ],
   "source": [
    "print(\"\\nYou can print the dimensions of arrays\")\n",
    "print(\"Shape of a: {}\".format(a.shape))\n",
    "print(\"Shape of b: {}\".format(b.shape))\n",
    "print(\"Shape of c: {}\".format(c.shape))\n",
    "print(\"...Observe, Python uses both [0,1,2] and (0,1,2) to specify lists\")"
   ]
  },
  {
   "cell_type": "markdown",
   "metadata": {
    "colab_type": "text",
    "id": "c-Jk4dG91dvD"
   },
   "source": [
    "## Colab Specifics"
   ]
  },
  {
   "cell_type": "markdown",
   "metadata": {
    "colab_type": "text",
    "id": "G0cGd8sHEmKi"
   },
   "source": [
    "Colabは、直接アクセスできる仮想マシンです。 VMの端末でコマンドを実行するには、行の前に感嘆符（！）を付けます。"
   ]
  },
  {
   "cell_type": "code",
   "execution_count": 12,
   "metadata": {
    "colab": {},
    "colab_type": "code",
    "id": "cLkfhyzq0W2y"
   },
   "outputs": [
    {
     "name": "stdout",
     "output_type": "stream",
     "text": [
      "\n",
      "Doing $ls on filesystem\n",
      "total 4000\n",
      "-rw-r--r--  1 hironsuz  YAHOO\\Domain Users   13113 12  3 15:30 [JPN]l01c01_introduction_to_colab_and_python.ipynb\n",
      "-rw-r--r--  1 hironsuz  YAHOO\\Domain Users   37215 12  2 18:37 [JPN]l02c01_celsius_to_fahrenheit.ipynb\n",
      "-rw-r--r--  1 hironsuz  YAHOO\\Domain Users  186770 12  3 09:49 [JPN]l03c01_classifying_images_of_clothing.ipynb\n",
      "-rw-r--r--  1 hironsuz  YAHOO\\Domain Users  186753 12  3 10:31 [JPN]l04c01_image_classification_with_cnns.ipynb\n",
      "-rw-r--r--  1 hironsuz  YAHOO\\Domain Users  426961 12  3 11:43 [JPN]l05c01_dogs_vs_cats_without_augmentation.ipynb\n",
      "-rw-r--r--  1 hironsuz  YAHOO\\Domain Users  249117 12  3 12:47 [JPN]l05c02_dogs_vs_cats_with_augmentation.ipynb\n",
      "-rw-r--r--  1 hironsuz  YAHOO\\Domain Users   44298 12  3 11:43 foo.png\n",
      "-rwxr-xr-x@ 1 hironsuz  YAHOO\\Domain Users   13546 11 26 20:25 \u001b[32ml01c01_introduction_to_colab_and_python.ipynb\u001b[m\u001b[m\n",
      "-rwxr-xr-x@ 1 hironsuz  YAHOO\\Domain Users   45830 12  3 15:19 \u001b[32ml02c01_celsius_to_fahrenheit.ipynb\u001b[m\u001b[m\n",
      "-rwxr-xr-x@ 1 hironsuz  YAHOO\\Domain Users   36641 11 26 20:25 \u001b[32ml03c01_classifying_images_of_clothing.ipynb\u001b[m\u001b[m\n",
      "-rwxr-xr-x@ 1 hironsuz  YAHOO\\Domain Users   32720 12  2 12:59 \u001b[32ml04c01_image_classification_with_cnns.ipynb\u001b[m\u001b[m\n",
      "-rwxr-xr-x@ 1 hironsuz  YAHOO\\Domain Users  403684 12  2 14:08 \u001b[32ml05c01_dogs_vs_cats_without_augmentation.ipynb\u001b[m\u001b[m\n",
      "-rwxr-xr-x@ 1 hironsuz  YAHOO\\Domain Users   30894 11 26 20:25 \u001b[32ml05c02_dogs_vs_cats_with_augmentation.ipynb\u001b[m\u001b[m\n",
      "-rwxr-xr-x@ 1 hironsuz  YAHOO\\Domain Users   27773 11 26 20:25 \u001b[32ml05c03_exercise_flowers_with_data_augmentation.ipynb\u001b[m\u001b[m\n",
      "-rwxr-xr-x@ 1 hironsuz  YAHOO\\Domain Users   31467 11 26 20:25 \u001b[32ml05c04_exercise_flowers_with_data_augmentation_solution.ipynb\u001b[m\u001b[m\n",
      "-rwxr-xr-x@ 1 hironsuz  YAHOO\\Domain Users   28337 11 26 20:25 \u001b[32ml06c01_tensorflow_hub_and_transfer_learning.ipynb\u001b[m\u001b[m\n",
      "-rwxr-xr-x@ 1 hironsuz  YAHOO\\Domain Users   19832 11 26 20:25 \u001b[32ml06c02_exercise_flowers_with_transfer_learning.ipynb\u001b[m\u001b[m\n",
      "-rwxr-xr-x@ 1 hironsuz  YAHOO\\Domain Users   23799 11 26 20:25 \u001b[32ml06c03_exercise_flowers_with_transfer_learning_solution.ipynb\u001b[m\u001b[m\n",
      "-rwxr-xr-x@ 1 hironsuz  YAHOO\\Domain Users   29119 11 26 20:25 \u001b[32ml07c01_saving_and_loading_models.ipynb\u001b[m\u001b[m\n",
      "-rwxr-xr-x@ 1 hironsuz  YAHOO\\Domain Users   10084 11 26 20:25 \u001b[32ml08c01_common_patterns.ipynb\u001b[m\u001b[m\n",
      "-rwxr-xr-x@ 1 hironsuz  YAHOO\\Domain Users    9369 11 26 20:25 \u001b[32ml08c02_naive_forecasting.ipynb\u001b[m\u001b[m\n",
      "-rwxr-xr-x@ 1 hironsuz  YAHOO\\Domain Users   15388 11 26 20:25 \u001b[32ml08c03_moving_average.ipynb\u001b[m\u001b[m\n",
      "-rwxr-xr-x@ 1 hironsuz  YAHOO\\Domain Users    8765 11 26 20:25 \u001b[32ml08c04_time_windows.ipynb\u001b[m\u001b[m\n",
      "-rwxr-xr-x@ 1 hironsuz  YAHOO\\Domain Users   17530 11 26 20:25 \u001b[32ml08c05_forecasting_with_machine_learning.ipynb\u001b[m\u001b[m\n",
      "-rwxr-xr-x@ 1 hironsuz  YAHOO\\Domain Users   18249 11 26 20:25 \u001b[32ml08c06_forecasting_with_rnn.ipynb\u001b[m\u001b[m\n",
      "-rwxr-xr-x@ 1 hironsuz  YAHOO\\Domain Users   13494 11 26 20:25 \u001b[32ml08c07_forecasting_with_stateful_rnn.ipynb\u001b[m\u001b[m\n",
      "-rwxr-xr-x@ 1 hironsuz  YAHOO\\Domain Users   12623 11 26 20:25 \u001b[32ml08c08_forecasting_with_lstm.ipynb\u001b[m\u001b[m\n",
      "-rwxr-xr-x@ 1 hironsuz  YAHOO\\Domain Users   18547 11 26 20:25 \u001b[32ml08c09_forecasting_with_cnn.ipynb\u001b[m\u001b[m\n",
      "/Users/hironsuz/Documents/tensorflow/courses/udacity_intro_to_tensorflow_for_deep_learning\n"
     ]
    }
   ],
   "source": [
    "print(\"\\nDoing $ls on filesystem\")\n",
    "!ls -l\n",
    "!pwd"
   ]
  },
  {
   "cell_type": "code",
   "execution_count": 13,
   "metadata": {
    "colab": {},
    "colab_type": "code",
    "id": "gR2WTN1cOZ1n"
   },
   "outputs": [
    {
     "name": "stdout",
     "output_type": "stream",
     "text": [
      "Install numpy\n",
      "Requirement already satisfied: numpy in /Users/hironsuz/anaconda3/lib/python3.7/site-packages (1.17.4)\n"
     ]
    }
   ],
   "source": [
    "print(\"Install numpy\")  # Just for test, numpy is actually preinstalled in all Colab instances\n",
    "!pip install numpy"
   ]
  },
  {
   "cell_type": "markdown",
   "metadata": {
    "colab_type": "text",
    "id": "QuWRpQdatAIU"
   },
   "source": [
    "**Exercise**\n",
    "このテキストセルの下にコードセルを作成し、以下にコードを追加します。\n",
    "\n",
    "* 現在のディレクトリ（pwd）のパスを一覧表示する\n",
    "* /（cd）に移動し、コンテンツをリストします（ls -l）\n"
   ]
  },
  {
   "cell_type": "code",
   "execution_count": 14,
   "metadata": {
    "colab": {},
    "colab_type": "code",
    "id": "xU-cJbMCR61P"
   },
   "outputs": [
    {
     "name": "stdout",
     "output_type": "stream",
     "text": [
      "/Users/hironsuz/Documents/tensorflow/courses/udacity_intro_to_tensorflow_for_deep_learning\n",
      "total 4000\n",
      "-rw-r--r--  1 hironsuz  YAHOO\\Domain Users   13113 12  3 15:30 [JPN]l01c01_introduction_to_colab_and_python.ipynb\n",
      "-rw-r--r--  1 hironsuz  YAHOO\\Domain Users   37215 12  2 18:37 [JPN]l02c01_celsius_to_fahrenheit.ipynb\n",
      "-rw-r--r--  1 hironsuz  YAHOO\\Domain Users  186770 12  3 09:49 [JPN]l03c01_classifying_images_of_clothing.ipynb\n",
      "-rw-r--r--  1 hironsuz  YAHOO\\Domain Users  186753 12  3 10:31 [JPN]l04c01_image_classification_with_cnns.ipynb\n",
      "-rw-r--r--  1 hironsuz  YAHOO\\Domain Users  426961 12  3 11:43 [JPN]l05c01_dogs_vs_cats_without_augmentation.ipynb\n",
      "-rw-r--r--  1 hironsuz  YAHOO\\Domain Users  249117 12  3 12:47 [JPN]l05c02_dogs_vs_cats_with_augmentation.ipynb\n",
      "-rw-r--r--  1 hironsuz  YAHOO\\Domain Users   44298 12  3 11:43 foo.png\n",
      "-rwxr-xr-x@ 1 hironsuz  YAHOO\\Domain Users   13546 11 26 20:25 \u001b[32ml01c01_introduction_to_colab_and_python.ipynb\u001b[m\u001b[m\n",
      "-rwxr-xr-x@ 1 hironsuz  YAHOO\\Domain Users   45830 12  3 15:19 \u001b[32ml02c01_celsius_to_fahrenheit.ipynb\u001b[m\u001b[m\n",
      "-rwxr-xr-x@ 1 hironsuz  YAHOO\\Domain Users   36641 11 26 20:25 \u001b[32ml03c01_classifying_images_of_clothing.ipynb\u001b[m\u001b[m\n",
      "-rwxr-xr-x@ 1 hironsuz  YAHOO\\Domain Users   32720 12  2 12:59 \u001b[32ml04c01_image_classification_with_cnns.ipynb\u001b[m\u001b[m\n",
      "-rwxr-xr-x@ 1 hironsuz  YAHOO\\Domain Users  403684 12  2 14:08 \u001b[32ml05c01_dogs_vs_cats_without_augmentation.ipynb\u001b[m\u001b[m\n",
      "-rwxr-xr-x@ 1 hironsuz  YAHOO\\Domain Users   30894 11 26 20:25 \u001b[32ml05c02_dogs_vs_cats_with_augmentation.ipynb\u001b[m\u001b[m\n",
      "-rwxr-xr-x@ 1 hironsuz  YAHOO\\Domain Users   27773 11 26 20:25 \u001b[32ml05c03_exercise_flowers_with_data_augmentation.ipynb\u001b[m\u001b[m\n",
      "-rwxr-xr-x@ 1 hironsuz  YAHOO\\Domain Users   31467 11 26 20:25 \u001b[32ml05c04_exercise_flowers_with_data_augmentation_solution.ipynb\u001b[m\u001b[m\n",
      "-rwxr-xr-x@ 1 hironsuz  YAHOO\\Domain Users   28337 11 26 20:25 \u001b[32ml06c01_tensorflow_hub_and_transfer_learning.ipynb\u001b[m\u001b[m\n",
      "-rwxr-xr-x@ 1 hironsuz  YAHOO\\Domain Users   19832 11 26 20:25 \u001b[32ml06c02_exercise_flowers_with_transfer_learning.ipynb\u001b[m\u001b[m\n",
      "-rwxr-xr-x@ 1 hironsuz  YAHOO\\Domain Users   23799 11 26 20:25 \u001b[32ml06c03_exercise_flowers_with_transfer_learning_solution.ipynb\u001b[m\u001b[m\n",
      "-rwxr-xr-x@ 1 hironsuz  YAHOO\\Domain Users   29119 11 26 20:25 \u001b[32ml07c01_saving_and_loading_models.ipynb\u001b[m\u001b[m\n",
      "-rwxr-xr-x@ 1 hironsuz  YAHOO\\Domain Users   10084 11 26 20:25 \u001b[32ml08c01_common_patterns.ipynb\u001b[m\u001b[m\n",
      "-rwxr-xr-x@ 1 hironsuz  YAHOO\\Domain Users    9369 11 26 20:25 \u001b[32ml08c02_naive_forecasting.ipynb\u001b[m\u001b[m\n",
      "-rwxr-xr-x@ 1 hironsuz  YAHOO\\Domain Users   15388 11 26 20:25 \u001b[32ml08c03_moving_average.ipynb\u001b[m\u001b[m\n",
      "-rwxr-xr-x@ 1 hironsuz  YAHOO\\Domain Users    8765 11 26 20:25 \u001b[32ml08c04_time_windows.ipynb\u001b[m\u001b[m\n",
      "-rwxr-xr-x@ 1 hironsuz  YAHOO\\Domain Users   17530 11 26 20:25 \u001b[32ml08c05_forecasting_with_machine_learning.ipynb\u001b[m\u001b[m\n",
      "-rwxr-xr-x@ 1 hironsuz  YAHOO\\Domain Users   18249 11 26 20:25 \u001b[32ml08c06_forecasting_with_rnn.ipynb\u001b[m\u001b[m\n",
      "-rwxr-xr-x@ 1 hironsuz  YAHOO\\Domain Users   13494 11 26 20:25 \u001b[32ml08c07_forecasting_with_stateful_rnn.ipynb\u001b[m\u001b[m\n",
      "-rwxr-xr-x@ 1 hironsuz  YAHOO\\Domain Users   12623 11 26 20:25 \u001b[32ml08c08_forecasting_with_lstm.ipynb\u001b[m\u001b[m\n",
      "-rwxr-xr-x@ 1 hironsuz  YAHOO\\Domain Users   18547 11 26 20:25 \u001b[32ml08c09_forecasting_with_cnn.ipynb\u001b[m\u001b[m\n",
      "Hello\n"
     ]
    }
   ],
   "source": [
    "!pwd\n",
    "!cd /\n",
    "!ls -l\n",
    "print(\"Hello\")"
   ]
  },
  {
   "cell_type": "markdown",
   "metadata": {
    "colab_type": "text",
    "id": "7b5jv0ouFREV"
   },
   "source": [
    "このコースでのColabの使用はすべて完全に無料または無料です。 GPUを使用しても、毎日数時間は無料で使用できます。\n",
    "\n",
    "**GPUを使用**\n",
    "* コースの演習の多くは、GPUランタイムを使用することでより迅速に実行されます。ランタイムタイプの変更|ハードウェアアクセラレータ| GPU\n",
    "\n",
    "**コラボに関する最後の言葉**\n",
    "* 各セルを順番に実行し、必要に応じてセルを編集および再実行できます\n",
    "* 時々、これは意図しない結果をもたらす可能性があります。たとえば、ディメンションを配列に追加してセルを複数回実行すると、その後のセルが機能しなくなる場合があります。問題が発生した場合は、環境をリセットしてください。\n",
    "  * ランタイム->ランタイムの再起動... Pythonシェルをリセットします\n",
    "  * ランタイム->すべてのランタイムを再起動... Colabイメージをリセットし、100％クリーンな環境に戻します\n",
    "* 以下を実行して、Colabの出力をクリアすることもできます：編集->すべての出力をクリア\n",
    "* このコースのコラボはGitHubからロードされます。コード/出力のコピーが必要な場合は、Googleドライブに保存します。ファイル->ドライブにコピーを保存...\n",
    "\n",
    "**もっと詳しく知る**\n",
    "* [here](https://www.youtube.com/watch?v=inN8seMm7UI&list=PLQY2H8rRoyvwLbzbnKJ59NkZvQAW9wLbx&index=3）#CodingTensorFlowのエピソードを確認し、YouTubeチャンネルに登録することを忘れないでください;)\n"
   ]
  },
  {
   "cell_type": "code",
   "execution_count": null,
   "metadata": {},
   "outputs": [],
   "source": []
  }
 ],
 "metadata": {
  "accelerator": "GPU",
  "colab": {
   "collapsed_sections": [],
   "name": "Introduction to Colab and Python",
   "private_outputs": true,
   "provenance": [
    {
     "file_id": "1sfp6QWsb4-DhxN_h7DUshycpZK-rxL7N",
     "timestamp": 1551739628582
    }
   ],
   "toc_visible": true,
   "version": "0.3.2"
  },
  "kernelspec": {
   "display_name": "Python 3",
   "language": "python",
   "name": "python3"
  },
  "language_info": {
   "codemirror_mode": {
    "name": "ipython",
    "version": 3
   },
   "file_extension": ".py",
   "mimetype": "text/x-python",
   "name": "python",
   "nbconvert_exporter": "python",
   "pygments_lexer": "ipython3",
   "version": "3.7.1"
  }
 },
 "nbformat": 4,
 "nbformat_minor": 2
}
